{
 "cells": [
  {
   "cell_type": "markdown",
   "id": "7da3b4f9",
   "metadata": {},
   "source": [
    "# Problem Set 2b"
   ]
  },
  {
   "cell_type": "markdown",
   "id": "a91154ac",
   "metadata": {},
   "source": [
    "#### In this assignment, you will be tasked with importing, annotating, cleaning, splicing, and exporting data. Use what you learned in the Python lecture as well as assignment 2a. It is advised that you rename your columns to have no space characters to ensure pandas functions work properly. Read all instructions in their entirety. Please attend office hours and send emails with Dr. Chan and all TAs CCed if you have any questions.\n",
    "\n",
    "*Also note that you are responsible for organizing your code into separate cells for readability and functionality. Also do not forget to add comments to your code.*\n",
    "\n",
    "*Lastly, you are required to create all frequired exports for submission (See submission summary on pdf instructions), however, between steps you may use the name of the dataframe created in an earlier step rather than importing your own exports.*\n"
   ]
  },
  {
   "cell_type": "markdown",
   "id": "f931c028",
   "metadata": {},
   "source": [
    "## Copy of Instructions"
   ]
  },
  {
   "cell_type": "markdown",
   "id": "d6c102d3",
   "metadata": {},
   "source": [
    "1) Annotating the data set (25%)\n",
    "\n",
    "    ● Provided File: ProblemSet2b_data_set.txt\n",
    "\n",
    "    ● Part I.1 & I.2. Add Entrez Gene ID and Official Gene Symbol to the dataset\n",
    "\n",
    "    ● Part I.3. Eliminate genes with any of the following missing: Entrez Gene ID, Gene Symbol,\n",
    "    and/or Description.\n",
    "\n",
    "    ● Export the results to a .csv file and name it as the following with your specific group\n",
    "    number:\n",
    "\n",
    "        ■ BME304_PS2_PartI_GroupNumber.csv\n",
    "\n",
    "2) Cut the data to obtain lists of significant genes (25%)\n",
    "\n",
    "    ● File created by you from previous step:\n",
    "\n",
    "        ■ BME304_PS2_PartI_GroupNumber.csv\n",
    "\n",
    "    ● Part II.1. Separate data with positive “Log2Ratio” and negative “Log2Ratio”.\n",
    "\n",
    "    ● Part II.2. Remove genes with P-value > 0.05 and the absolute value of Log2Ratio is less than\n",
    "\n",
    "    1 (hint: select p values < 0.05, select absolute value of Log2Ratio > 1 )\n",
    "\n",
    "    ● Export the results to two .csv file and name them as the following with your specific group\n",
    "    number:\n",
    "\n",
    "        ■ BME304_PS2_PartII_Pos_GroupNumber.csv \n",
    "        ■ BME304_PS2_PartII_Neg_GroupNumber.csv\n",
    "\n",
    "3) Get biological context explaining the results-biological processes (20%)\n",
    "\n",
    "    ● Use the files you created in the previous step:\n",
    "\n",
    "        ■ BME304_PS2_PartII_Pos_GroupNumber.csv\n",
    "\n",
    "        ■ BME304_PS2_PartII_Neg_GroupNumber.csv\n",
    "\n",
    "    ● Part III.1 & 2. Obtain the biological processes of only the up-regulated genes by using the\n",
    "    Panther web tool introduced.\n",
    "\n",
    "    ● Submit a pdf document answering with the required results, and include a table of\n",
    "    individual roles (significant point deduction without this table)\n",
    "   \n",
    "        ■ BME304_PS2_PartIII_GroupNumber.pdf\n",
    "\n",
    "4) Complete the individual quiz on Brightspace: Problem_Set_2b_Individual_Quiz (20%)\n",
    "\n",
    "    ● Since this is part of 2b assignment, your group can discuss this together, but each member in the group\n",
    "    still has to submit it before the given deadline in order to gain the point.\n",
    "\n",
    "    ● For hint, refer to the information provided at the end of this document (i.e., Appendix)"
   ]
  },
  {
   "cell_type": "code",
   "execution_count": null,
   "id": "3bd9c141",
   "metadata": {},
   "outputs": [],
   "source": [
    "import pandas as pd\n",
    "\n",
    "part1Data=pd.read_csv('BME304_PS2_PartI_Group2.csv')\n",
    "part1Data=pd.DataFrame(part1Data)\n",
    "\n",
    "part1DataPos=part1Data[part1Data['Log2Ratio']>0]\n",
    "\n",
    "part1DataNeg=part1Data[part1Data['Log2Ratio']<0]\n",
    "\n",
    "significantDataPos=part1DataPos[(part1DataPos['p-value']<=0.05) & (part1DataPos['Log2Ratio'].abs()>=1)]\n",
    "significantDataPos.to_csv('BME304_PS2_PartII_Pos_Group2.csv')\n",
    "\n",
    "significantDataNeg=part1DataNeg[(part1DataNeg['p-value']<=0.05) & (part1DataNeg['Log2Ratio'].abs()>=1)]\n",
    "significantDataNeg.to_csv('BME304_PS2_PartII_Neg_Group2.csv')"
   ]
  }
 ],
 "metadata": {
  "kernelspec": {
   "display_name": "base",
   "language": "python",
   "name": "python3"
  },
  "language_info": {
   "codemirror_mode": {
    "name": "ipython",
    "version": 3
   },
   "file_extension": ".py",
   "mimetype": "text/x-python",
   "name": "python",
   "nbconvert_exporter": "python",
   "pygments_lexer": "ipython3",
   "version": "3.12.7"
  }
 },
 "nbformat": 4,
 "nbformat_minor": 5
}
